{
 "cells": [
  {
   "cell_type": "code",
   "execution_count": 1,
   "id": "bb4f12b1",
   "metadata": {},
   "outputs": [],
   "source": [
    "import pandas_datareader as pdr"
   ]
  },
  {
   "cell_type": "code",
   "execution_count": 2,
   "id": "8cd131de",
   "metadata": {},
   "outputs": [
    {
     "name": "stderr",
     "output_type": "stream",
     "text": [
      "C:\\ProgramData\\Anaconda3\\lib\\site-packages\\pandas_datareader\\tiingo.py:234: FutureWarning: In a future version of pandas all arguments of concat except for the argument 'objs' will be keyword-only\n",
      "  return pd.concat(dfs, self._concat_axis)\n"
     ]
    }
   ],
   "source": [
    "df = pdr.get_data_tiingo('TSLA',api_key = \"b6cae8248900c9896eeecab0aeab4bed839cb1f5\")"
   ]
  },
  {
   "cell_type": "code",
   "execution_count": 3,
   "id": "a8bbeea6",
   "metadata": {},
   "outputs": [],
   "source": [
    "df.to_csv('TSLA.csv')"
   ]
  },
  {
   "cell_type": "code",
   "execution_count": 4,
   "id": "00bb0630",
   "metadata": {},
   "outputs": [],
   "source": [
    "import pandas as pd"
   ]
  },
  {
   "cell_type": "code",
   "execution_count": 5,
   "id": "892f0159",
   "metadata": {},
   "outputs": [],
   "source": [
    "df = pd.read_csv('TSLA.csv')"
   ]
  },
  {
   "cell_type": "code",
   "execution_count": 6,
   "id": "661b56d2",
   "metadata": {},
   "outputs": [
    {
     "data": {
      "text/html": [
       "<div>\n",
       "<style scoped>\n",
       "    .dataframe tbody tr th:only-of-type {\n",
       "        vertical-align: middle;\n",
       "    }\n",
       "\n",
       "    .dataframe tbody tr th {\n",
       "        vertical-align: top;\n",
       "    }\n",
       "\n",
       "    .dataframe thead th {\n",
       "        text-align: right;\n",
       "    }\n",
       "</style>\n",
       "<table border=\"1\" class=\"dataframe\">\n",
       "  <thead>\n",
       "    <tr style=\"text-align: right;\">\n",
       "      <th></th>\n",
       "      <th>symbol</th>\n",
       "      <th>date</th>\n",
       "      <th>close</th>\n",
       "      <th>high</th>\n",
       "      <th>low</th>\n",
       "      <th>open</th>\n",
       "      <th>volume</th>\n",
       "      <th>adjClose</th>\n",
       "      <th>adjHigh</th>\n",
       "      <th>adjLow</th>\n",
       "      <th>adjOpen</th>\n",
       "      <th>adjVolume</th>\n",
       "      <th>divCash</th>\n",
       "      <th>splitFactor</th>\n",
       "    </tr>\n",
       "  </thead>\n",
       "  <tbody>\n",
       "    <tr>\n",
       "      <th>0</th>\n",
       "      <td>TSLA</td>\n",
       "      <td>2017-06-07 00:00:00+00:00</td>\n",
       "      <td>359.65</td>\n",
       "      <td>360.50</td>\n",
       "      <td>355.14</td>\n",
       "      <td>356.34</td>\n",
       "      <td>9287888</td>\n",
       "      <td>71.930</td>\n",
       "      <td>72.100</td>\n",
       "      <td>71.028</td>\n",
       "      <td>71.268</td>\n",
       "      <td>46439440</td>\n",
       "      <td>0.0</td>\n",
       "      <td>1.0</td>\n",
       "    </tr>\n",
       "    <tr>\n",
       "      <th>1</th>\n",
       "      <td>TSLA</td>\n",
       "      <td>2017-06-08 00:00:00+00:00</td>\n",
       "      <td>370.00</td>\n",
       "      <td>371.90</td>\n",
       "      <td>360.22</td>\n",
       "      <td>363.75</td>\n",
       "      <td>8975028</td>\n",
       "      <td>74.000</td>\n",
       "      <td>74.380</td>\n",
       "      <td>72.044</td>\n",
       "      <td>72.750</td>\n",
       "      <td>44875140</td>\n",
       "      <td>0.0</td>\n",
       "      <td>1.0</td>\n",
       "    </tr>\n",
       "    <tr>\n",
       "      <th>2</th>\n",
       "      <td>TSLA</td>\n",
       "      <td>2017-06-09 00:00:00+00:00</td>\n",
       "      <td>357.32</td>\n",
       "      <td>376.87</td>\n",
       "      <td>354.80</td>\n",
       "      <td>374.42</td>\n",
       "      <td>17160231</td>\n",
       "      <td>71.464</td>\n",
       "      <td>75.374</td>\n",
       "      <td>70.960</td>\n",
       "      <td>74.884</td>\n",
       "      <td>85801155</td>\n",
       "      <td>0.0</td>\n",
       "      <td>1.0</td>\n",
       "    </tr>\n",
       "    <tr>\n",
       "      <th>3</th>\n",
       "      <td>TSLA</td>\n",
       "      <td>2017-06-12 00:00:00+00:00</td>\n",
       "      <td>359.01</td>\n",
       "      <td>364.50</td>\n",
       "      <td>350.62</td>\n",
       "      <td>357.99</td>\n",
       "      <td>10476833</td>\n",
       "      <td>71.802</td>\n",
       "      <td>72.900</td>\n",
       "      <td>70.124</td>\n",
       "      <td>71.598</td>\n",
       "      <td>52384165</td>\n",
       "      <td>0.0</td>\n",
       "      <td>1.0</td>\n",
       "    </tr>\n",
       "    <tr>\n",
       "      <th>4</th>\n",
       "      <td>TSLA</td>\n",
       "      <td>2017-06-13 00:00:00+00:00</td>\n",
       "      <td>375.95</td>\n",
       "      <td>376.00</td>\n",
       "      <td>366.61</td>\n",
       "      <td>367.62</td>\n",
       "      <td>11693404</td>\n",
       "      <td>75.190</td>\n",
       "      <td>75.200</td>\n",
       "      <td>73.322</td>\n",
       "      <td>73.524</td>\n",
       "      <td>58467020</td>\n",
       "      <td>0.0</td>\n",
       "      <td>1.0</td>\n",
       "    </tr>\n",
       "  </tbody>\n",
       "</table>\n",
       "</div>"
      ],
      "text/plain": [
       "  symbol                       date   close    high     low    open    volume  \\\n",
       "0   TSLA  2017-06-07 00:00:00+00:00  359.65  360.50  355.14  356.34   9287888   \n",
       "1   TSLA  2017-06-08 00:00:00+00:00  370.00  371.90  360.22  363.75   8975028   \n",
       "2   TSLA  2017-06-09 00:00:00+00:00  357.32  376.87  354.80  374.42  17160231   \n",
       "3   TSLA  2017-06-12 00:00:00+00:00  359.01  364.50  350.62  357.99  10476833   \n",
       "4   TSLA  2017-06-13 00:00:00+00:00  375.95  376.00  366.61  367.62  11693404   \n",
       "\n",
       "   adjClose  adjHigh  adjLow  adjOpen  adjVolume  divCash  splitFactor  \n",
       "0    71.930   72.100  71.028   71.268   46439440      0.0          1.0  \n",
       "1    74.000   74.380  72.044   72.750   44875140      0.0          1.0  \n",
       "2    71.464   75.374  70.960   74.884   85801155      0.0          1.0  \n",
       "3    71.802   72.900  70.124   71.598   52384165      0.0          1.0  \n",
       "4    75.190   75.200  73.322   73.524   58467020      0.0          1.0  "
      ]
     },
     "execution_count": 6,
     "metadata": {},
     "output_type": "execute_result"
    }
   ],
   "source": [
    "df.head()"
   ]
  },
  {
   "cell_type": "code",
   "execution_count": 7,
   "id": "5814d767",
   "metadata": {},
   "outputs": [],
   "source": [
    "df1 = df.reset_index()['close']"
   ]
  },
  {
   "cell_type": "code",
   "execution_count": 8,
   "id": "82613e98",
   "metadata": {},
   "outputs": [
    {
     "data": {
      "text/plain": [
       "(1258,)"
      ]
     },
     "execution_count": 8,
     "metadata": {},
     "output_type": "execute_result"
    }
   ],
   "source": [
    "df1.shape"
   ]
  },
  {
   "cell_type": "code",
   "execution_count": 10,
   "id": "c83aea40",
   "metadata": {},
   "outputs": [
    {
     "data": {
      "text/plain": [
       "0       359.65\n",
       "1       370.00\n",
       "2       357.32\n",
       "3       359.01\n",
       "4       375.95\n",
       "         ...  \n",
       "1253    759.63\n",
       "1254    758.26\n",
       "1255    740.37\n",
       "1256    775.00\n",
       "1257    703.55\n",
       "Name: close, Length: 1258, dtype: float64"
      ]
     },
     "execution_count": 10,
     "metadata": {},
     "output_type": "execute_result"
    }
   ],
   "source": [
    "df1"
   ]
  },
  {
   "cell_type": "code",
   "execution_count": 12,
   "id": "a41f52d1",
   "metadata": {},
   "outputs": [
    {
     "data": {
      "text/plain": [
       "[<matplotlib.lines.Line2D at 0x1aa13e5ba30>]"
      ]
     },
     "execution_count": 12,
     "metadata": {},
     "output_type": "execute_result"
    },
    {
     "data": {
      "image/png": "[encoded data removed]",
      "text/plain": [
       "<Figure size 432x288 with 1 Axes>"
      ]
     },
     "metadata": {
      "needs_background": "light"
     },
     "output_type": "display_data"
    }
   ],
   "source": [
    "import matplotlib.pyplot as plt\n",
    "plt.plot(df1)"
   ]
  },
  {
   "cell_type": "code",
   "execution_count": 13,
   "id": "878af6ba",
   "metadata": {},
   "outputs": [],
   "source": [
    "import numpy as np"
   ]
  },
  {
   "cell_type": "code",
   "execution_count": 14,
   "id": "0bce312e",
   "metadata": {},
   "outputs": [],
   "source": [
    "from sklearn.preprocessing import MinMaxScaler\n",
    "scaler = MinMaxScaler(feature_range=(0,1))\n",
    "df1 = scaler.fit_transform(np.array(df1).reshape(-1,1))"
   ]
  },
  {
   "cell_type": "code",
   "execution_count": 15,
   "id": "1bb3d59b",
   "metadata": {},
   "outputs": [
    {
     "data": {
      "text/plain": [
       "(1258, 1)"
      ]
     },
     "execution_count": 15,
     "metadata": {},
     "output_type": "execute_result"
    }
   ],
   "source": [
    "df1.shape"
   ]
  },
  {
   "cell_type": "code",
   "execution_count": 18,
   "id": "91169481",
   "metadata": {},
   "outputs": [],
   "source": [
    "training_size = int(len(df1)*0.65)\n",
    "test_size = len(df1) - training_size\n",
    "train_data,test_data = df1[0:training_size,:],df1[training_size:len(df1),:]"
   ]
  },
  {
   "cell_type": "code",
   "execution_count": 19,
   "id": "3a3002d8",
   "metadata": {},
   "outputs": [
    {
     "data": {
      "text/plain": [
       "(817, 441)"
      ]
     },
     "execution_count": 19,
     "metadata": {},
     "output_type": "execute_result"
    }
   ],
   "source": [
    "training_size,test_size"
   ]
  },
  {
   "cell_type": "code",
   "execution_count": 20,
   "id": "13683587",
   "metadata": {},
   "outputs": [
    {
     "data": {
      "text/plain": [
       "(817, 441)"
      ]
     },
     "execution_count": 20,
     "metadata": {},
     "output_type": "execute_result"
    }
   ],
   "source": [
    "len(train_data),len(test_data)"
   ]
  },
  {
   "cell_type": "code",
   "execution_count": 21,
   "id": "a424c41a",
   "metadata": {},
   "outputs": [],
   "source": [
    "import numpy\n",
    "\n",
    "def create_dataset(dataset,time_step=1):\n",
    "    dataX, dataY = [], []\n",
    "    for i in range(len(dataset)-time_step-1):\n",
    "        a = dataset[i:(i+time_step),0]\n",
    "        dataX.append(a)\n",
    "        dataY.append(dataset[i + time_step,0])\n",
    "    return numpy.array(dataX), numpy.array(dataY)"
   ]
  },
  {
   "cell_type": "code",
   "execution_count": 22,
   "id": "8a70845c",
   "metadata": {},
   "outputs": [],
   "source": [
    "time_step = 100\n",
    "X_train, y_train = create_dataset(train_data, time_step)\n",
    "X_test, ytest = create_dataset(test_data, time_step)"
   ]
  },
  {
   "cell_type": "code",
   "execution_count": 25,
   "id": "404c01a8",
   "metadata": {},
   "outputs": [
    {
     "name": "stdout",
     "output_type": "stream",
     "text": [
      "(716, 100)\n",
      "(716,)\n"
     ]
    },
    {
     "data": {
      "text/plain": [
       "(None, None)"
      ]
     },
     "execution_count": 25,
     "metadata": {},
     "output_type": "execute_result"
    }
   ],
   "source": [
    "print(X_train.shape),print(y_train.shape)"
   ]
  },
  {
   "cell_type": "code",
   "execution_count": 24,
   "id": "fbb27376",
   "metadata": {},
   "outputs": [
    {
     "name": "stdout",
     "output_type": "stream",
     "text": [
      "(340, 100)\n",
      "(340,)\n"
     ]
    },
    {
     "data": {
      "text/plain": [
       "(None, None)"
      ]
     },
     "execution_count": 24,
     "metadata": {},
     "output_type": "execute_result"
    }
   ],
   "source": [
    "print(X_test.shape), print(ytest.shape)"
   ]
  },
  {
   "cell_type": "code",
   "execution_count": 26,
   "id": "bd679629",
   "metadata": {},
   "outputs": [],
   "source": [
    "X_train = X_train.reshape(X_train.shape[0],X_train.shape[1],1)\n",
    "X_test = X_test.reshape(X_test.shape[0],X_test.shape[1],1)"
   ]
  },
  {
   "cell_type": "code",
   "execution_count": 27,
   "id": "bf9abc39",
   "metadata": {},
   "outputs": [],
   "source": [
    "from tensorflow.keras.models import Sequential\n",
    "from tensorflow.keras.layers import Dense\n",
    "from tensorflow.keras.layers import LSTM"
   ]
  },
  {
   "cell_type": "code",
   "execution_count": 30,
   "id": "bbd0e45b",
   "metadata": {},
   "outputs": [],
   "source": [
    "model = Sequential()\n",
    "model.add(LSTM(50,return_sequences = True,input_shape=(100,1)))\n",
    "model.add(LSTM(50,return_sequences=True))\n",
    "model.add(LSTM(50))\n",
    "model.add(Dense(1))\n",
    "model.compile(loss='mean_squared_error', optimizer='adam')"
   ]
  },
  {
   "cell_type": "code",
   "execution_count": 31,
   "id": "44e3353f",
   "metadata": {},
   "outputs": [
    {
     "name": "stdout",
     "output_type": "stream",
     "text": [
      "Model: \"sequential_2\"\n",
      "_________________________________________________________________\n",
      " Layer (type)                Output Shape              Param #   \n",
      "=================================================================\n",
      " lstm_3 (LSTM)               (None, 100, 50)           10400     \n",
      "                                                                 \n",
      " lstm_4 (LSTM)               (None, 100, 50)           20200     \n",
      "                                                                 \n",
      " lstm_5 (LSTM)               (None, 50)                20200     \n",
      "                                                                 \n",
      " dense_1 (Dense)             (None, 1)                 51        \n",
      "                                                                 \n",
      "=================================================================\n",
      "Total params: 50,851\n",
      "Trainable params: 50,851\n",
      "Non-trainable params: 0\n",
      "_________________________________________________________________\n"
     ]
    }
   ],
   "source": [
    "model.summary()"
   ]
  },
  {
   "cell_type": "code",
   "execution_count": 32,
   "id": "0028e3f5",
   "metadata": {},
   "outputs": [
    {
     "name": "stdout",
     "output_type": "stream",
     "text": [
      "Epoch 1/100\n",
      "12/12 [==============================] - 7s 247ms/step - loss: 0.0135 - val_loss: 0.0031\n",
      "Epoch 2/100\n",
      "12/12 [==============================] - 2s 149ms/step - loss: 0.0036 - val_loss: 0.0069\n",
      "Epoch 3/100\n",
      "12/12 [==============================] - 2s 148ms/step - loss: 0.0031 - val_loss: 0.0019\n",
      "Epoch 4/100\n",
      "12/12 [==============================] - 2s 145ms/step - loss: 0.0030 - val_loss: 0.0036\n",
      "Epoch 5/100\n",
      "12/12 [==============================] - 2s 143ms/step - loss: 0.0030 - val_loss: 0.0021\n",
      "Epoch 6/100\n",
      "12/12 [==============================] - 2s 155ms/step - loss: 0.0031 - val_loss: 0.0018\n",
      "Epoch 7/100\n",
      "12/12 [==============================] - 3s 273ms/step - loss: 0.0034 - val_loss: 0.0062\n",
      "Epoch 8/100\n",
      "12/12 [==============================] - 3s 212ms/step - loss: 0.0029 - val_loss: 0.0036\n",
      "Epoch 9/100\n",
      "12/12 [==============================] - 2s 207ms/step - loss: 0.0029 - val_loss: 0.0048\n",
      "Epoch 10/100\n",
      "12/12 [==============================] - 2s 208ms/step - loss: 0.0028 - val_loss: 0.0031\n",
      "Epoch 11/100\n",
      "12/12 [==============================] - 2s 208ms/step - loss: 0.0030 - val_loss: 0.0019\n",
      "Epoch 12/100\n",
      "12/12 [==============================] - 2s 211ms/step - loss: 0.0030 - val_loss: 0.0018\n",
      "Epoch 13/100\n",
      "12/12 [==============================] - 2s 204ms/step - loss: 0.0046 - val_loss: 0.0050\n",
      "Epoch 14/100\n",
      "12/12 [==============================] - 2s 206ms/step - loss: 0.0034 - val_loss: 0.0030\n",
      "Epoch 15/100\n",
      "12/12 [==============================] - 2s 209ms/step - loss: 0.0030 - val_loss: 0.0017\n",
      "Epoch 16/100\n",
      "12/12 [==============================] - 2s 211ms/step - loss: 0.0029 - val_loss: 0.0026\n",
      "Epoch 17/100\n",
      "12/12 [==============================] - 2s 204ms/step - loss: 0.0027 - val_loss: 0.0031\n",
      "Epoch 18/100\n",
      "12/12 [==============================] - 3s 211ms/step - loss: 0.0027 - val_loss: 0.0017\n",
      "Epoch 19/100\n",
      "12/12 [==============================] - 3s 249ms/step - loss: 0.0031 - val_loss: 0.0015\n",
      "Epoch 20/100\n",
      "12/12 [==============================] - 3s 238ms/step - loss: 0.0027 - val_loss: 0.0054\n",
      "Epoch 21/100\n",
      "12/12 [==============================] - 3s 221ms/step - loss: 0.0028 - val_loss: 0.0027\n",
      "Epoch 22/100\n",
      "12/12 [==============================] - 3s 223ms/step - loss: 0.0026 - val_loss: 0.0019\n",
      "Epoch 23/100\n",
      "12/12 [==============================] - 2s 209ms/step - loss: 0.0026 - val_loss: 0.0029\n",
      "Epoch 24/100\n",
      "12/12 [==============================] - 3s 211ms/step - loss: 0.0025 - val_loss: 0.0023\n",
      "Epoch 25/100\n",
      "12/12 [==============================] - 2s 206ms/step - loss: 0.0026 - val_loss: 0.0038\n",
      "Epoch 26/100\n",
      "12/12 [==============================] - 2s 205ms/step - loss: 0.0031 - val_loss: 0.0013\n",
      "Epoch 27/100\n",
      "12/12 [==============================] - 2s 207ms/step - loss: 0.0028 - val_loss: 0.0014\n",
      "Epoch 28/100\n",
      "12/12 [==============================] - 2s 208ms/step - loss: 0.0027 - val_loss: 0.0036\n",
      "Epoch 29/100\n",
      "12/12 [==============================] - 2s 208ms/step - loss: 0.0027 - val_loss: 0.0054\n",
      "Epoch 30/100\n",
      "12/12 [==============================] - 2s 204ms/step - loss: 0.0027 - val_loss: 0.0012\n",
      "Epoch 31/100\n",
      "12/12 [==============================] - 2s 206ms/step - loss: 0.0027 - val_loss: 0.0013\n",
      "Epoch 32/100\n",
      "12/12 [==============================] - 2s 203ms/step - loss: 0.0025 - val_loss: 0.0019\n",
      "Epoch 33/100\n",
      "12/12 [==============================] - 2s 209ms/step - loss: 0.0025 - val_loss: 0.0025\n",
      "Epoch 34/100\n",
      "12/12 [==============================] - 2s 208ms/step - loss: 0.0024 - val_loss: 0.0021\n",
      "Epoch 35/100\n",
      "12/12 [==============================] - 3s 219ms/step - loss: 0.0024 - val_loss: 0.0023\n",
      "Epoch 36/100\n",
      "12/12 [==============================] - 2s 205ms/step - loss: 0.0024 - val_loss: 0.0023\n",
      "Epoch 37/100\n",
      "12/12 [==============================] - 3s 212ms/step - loss: 0.0024 - val_loss: 0.0015\n",
      "Epoch 38/100\n",
      "12/12 [==============================] - 2s 203ms/step - loss: 0.0024 - val_loss: 0.0032\n",
      "Epoch 39/100\n",
      "12/12 [==============================] - 3s 241ms/step - loss: 0.0023 - val_loss: 9.7253e-04\n",
      "Epoch 40/100\n",
      "12/12 [==============================] - 3s 235ms/step - loss: 0.0037 - val_loss: 0.0068\n",
      "Epoch 41/100\n",
      "12/12 [==============================] - 3s 241ms/step - loss: 0.0030 - val_loss: 0.0019\n",
      "Epoch 42/100\n",
      "12/12 [==============================] - 3s 235ms/step - loss: 0.0031 - val_loss: 0.0011\n",
      "Epoch 43/100\n",
      "12/12 [==============================] - 3s 237ms/step - loss: 0.0028 - val_loss: 0.0073\n",
      "Epoch 44/100\n",
      "12/12 [==============================] - 3s 228ms/step - loss: 0.0025 - val_loss: 0.0042\n",
      "Epoch 45/100\n",
      "12/12 [==============================] - 3s 219ms/step - loss: 0.0023 - val_loss: 0.0018\n",
      "Epoch 46/100\n",
      "12/12 [==============================] - 3s 228ms/step - loss: 0.0021 - val_loss: 0.0023\n",
      "Epoch 47/100\n",
      "12/12 [==============================] - 3s 230ms/step - loss: 0.0021 - val_loss: 0.0012\n",
      "Epoch 48/100\n",
      "12/12 [==============================] - 3s 222ms/step - loss: 0.0022 - val_loss: 0.0023\n",
      "Epoch 49/100\n",
      "12/12 [==============================] - 2s 209ms/step - loss: 0.0020 - val_loss: 0.0029\n",
      "Epoch 50/100\n",
      "12/12 [==============================] - 2s 207ms/step - loss: 0.0021 - val_loss: 9.7590e-04\n",
      "Epoch 51/100\n",
      "12/12 [==============================] - 3s 217ms/step - loss: 0.0017 - val_loss: 0.0015\n",
      "Epoch 52/100\n",
      "12/12 [==============================] - 3s 214ms/step - loss: 0.0016 - val_loss: 0.0021\n",
      "Epoch 53/100\n",
      "12/12 [==============================] - 3s 228ms/step - loss: 0.0017 - val_loss: 0.0014\n",
      "Epoch 54/100\n",
      "12/12 [==============================] - 3s 215ms/step - loss: 0.0016 - val_loss: 0.0030\n",
      "Epoch 55/100\n",
      "12/12 [==============================] - 3s 228ms/step - loss: 0.0018 - val_loss: 0.0013\n",
      "Epoch 56/100\n",
      "12/12 [==============================] - 3s 227ms/step - loss: 0.0016 - val_loss: 0.0018\n",
      "Epoch 57/100\n",
      "12/12 [==============================] - 2s 204ms/step - loss: 0.0016 - val_loss: 0.0016\n",
      "Epoch 58/100\n",
      "12/12 [==============================] - 2s 145ms/step - loss: 0.0014 - val_loss: 9.7045e-04\n",
      "Epoch 59/100\n",
      "12/12 [==============================] - 2s 130ms/step - loss: 0.0014 - val_loss: 0.0016\n",
      "Epoch 60/100\n",
      "12/12 [==============================] - 2s 130ms/step - loss: 0.0014 - val_loss: 0.0015\n",
      "Epoch 61/100\n",
      "12/12 [==============================] - 2s 130ms/step - loss: 0.0013 - val_loss: 0.0033\n",
      "Epoch 62/100\n",
      "12/12 [==============================] - 2s 138ms/step - loss: 0.0014 - val_loss: 8.0814e-04\n",
      "Epoch 63/100\n",
      "12/12 [==============================] - 2s 130ms/step - loss: 0.0012 - val_loss: 0.0013\n",
      "Epoch 64/100\n",
      "12/12 [==============================] - 2s 131ms/step - loss: 0.0017 - val_loss: 0.0011\n",
      "Epoch 65/100\n",
      "12/12 [==============================] - 2s 134ms/step - loss: 0.0016 - val_loss: 0.0017\n",
      "Epoch 66/100\n",
      "12/12 [==============================] - 2s 132ms/step - loss: 0.0026 - val_loss: 6.5949e-04\n",
      "Epoch 67/100\n",
      "12/12 [==============================] - 2s 131ms/step - loss: 0.0020 - val_loss: 8.7530e-04\n",
      "Epoch 68/100\n",
      "12/12 [==============================] - 2s 133ms/step - loss: 0.0018 - val_loss: 8.5000e-04\n",
      "Epoch 69/100\n",
      "12/12 [==============================] - 2s 130ms/step - loss: 0.0015 - val_loss: 0.0015\n",
      "Epoch 70/100\n",
      "12/12 [==============================] - 2s 131ms/step - loss: 0.0014 - val_loss: 0.0012\n",
      "Epoch 71/100\n",
      "12/12 [==============================] - 2s 137ms/step - loss: 0.0013 - val_loss: 0.0017\n",
      "Epoch 72/100\n",
      "12/12 [==============================] - 2s 131ms/step - loss: 0.0012 - val_loss: 0.0012\n",
      "Epoch 73/100\n",
      "12/12 [==============================] - 2s 143ms/step - loss: 0.0012 - val_loss: 7.7227e-04\n",
      "Epoch 74/100\n",
      "12/12 [==============================] - 2s 140ms/step - loss: 0.0024 - val_loss: 0.0033\n",
      "Epoch 75/100\n",
      "12/12 [==============================] - 2s 138ms/step - loss: 0.0019 - val_loss: 0.0034\n",
      "Epoch 76/100\n",
      "12/12 [==============================] - 2s 145ms/step - loss: 0.0015 - val_loss: 0.0039\n",
      "Epoch 77/100\n",
      "12/12 [==============================] - 2s 210ms/step - loss: 0.0014 - val_loss: 8.6983e-04\n",
      "Epoch 78/100\n",
      "12/12 [==============================] - 2s 207ms/step - loss: 0.0013 - val_loss: 7.6674e-04\n",
      "Epoch 79/100\n",
      "12/12 [==============================] - 2s 210ms/step - loss: 0.0015 - val_loss: 0.0011\n",
      "Epoch 80/100\n",
      "12/12 [==============================] - 2s 206ms/step - loss: 0.0017 - val_loss: 6.0727e-04\n"
     ]
    },
    {
     "name": "stdout",
     "output_type": "stream",
     "text": [
      "Epoch 81/100\n",
      "12/12 [==============================] - 2s 167ms/step - loss: 0.0014 - val_loss: 9.6235e-04\n",
      "Epoch 82/100\n",
      "12/12 [==============================] - 2s 130ms/step - loss: 0.0013 - val_loss: 0.0010\n",
      "Epoch 83/100\n",
      "12/12 [==============================] - 2s 129ms/step - loss: 0.0012 - val_loss: 0.0012\n",
      "Epoch 84/100\n",
      "12/12 [==============================] - 2s 131ms/step - loss: 0.0012 - val_loss: 0.0024\n",
      "Epoch 85/100\n",
      "12/12 [==============================] - 2s 129ms/step - loss: 0.0012 - val_loss: 0.0010\n",
      "Epoch 86/100\n",
      "12/12 [==============================] - 2s 128ms/step - loss: 0.0011 - val_loss: 9.5141e-04\n",
      "Epoch 87/100\n",
      "12/12 [==============================] - 2s 130ms/step - loss: 0.0011 - val_loss: 9.7507e-04\n",
      "Epoch 88/100\n",
      "12/12 [==============================] - 2s 131ms/step - loss: 0.0011 - val_loss: 0.0013\n",
      "Epoch 89/100\n",
      "12/12 [==============================] - 2s 130ms/step - loss: 0.0011 - val_loss: 8.0470e-04\n",
      "Epoch 90/100\n",
      "12/12 [==============================] - 2s 130ms/step - loss: 0.0010 - val_loss: 0.0013\n",
      "Epoch 91/100\n",
      "12/12 [==============================] - 2s 131ms/step - loss: 0.0012 - val_loss: 6.7995e-04\n",
      "Epoch 92/100\n",
      "12/12 [==============================] - 2s 131ms/step - loss: 0.0010 - val_loss: 9.5887e-04\n",
      "Epoch 93/100\n",
      "12/12 [==============================] - 2s 130ms/step - loss: 0.0011 - val_loss: 6.2360e-04\n",
      "Epoch 94/100\n",
      "12/12 [==============================] - 2s 134ms/step - loss: 0.0013 - val_loss: 6.4117e-04\n",
      "Epoch 95/100\n",
      "12/12 [==============================] - 2s 132ms/step - loss: 9.5203e-04 - val_loss: 0.0018\n",
      "Epoch 96/100\n",
      "12/12 [==============================] - 2s 133ms/step - loss: 0.0010 - val_loss: 8.6589e-04\n",
      "Epoch 97/100\n",
      "12/12 [==============================] - 2s 134ms/step - loss: 9.2760e-04 - val_loss: 0.0012\n",
      "Epoch 98/100\n",
      "12/12 [==============================] - 2s 132ms/step - loss: 8.7622e-04 - val_loss: 7.6361e-04\n",
      "Epoch 99/100\n",
      "12/12 [==============================] - 2s 131ms/step - loss: 9.9263e-04 - val_loss: 9.4116e-04\n",
      "Epoch 100/100\n",
      "12/12 [==============================] - 2s 134ms/step - loss: 9.4205e-04 - val_loss: 0.0013\n"
     ]
    },
    {
     "data": {
      "text/plain": [
       "<keras.callbacks.History at 0x1aa286c6bb0>"
      ]
     },
     "execution_count": 32,
     "metadata": {},
     "output_type": "execute_result"
    }
   ],
   "source": [
    "model.fit(X_train,y_train,validation_data=(X_test,ytest),epochs=100,batch_size=64,verbose=1)"
   ]
  },
  {
   "cell_type": "code",
   "execution_count": 34,
   "id": "c22fe731",
   "metadata": {},
   "outputs": [
    {
     "name": "stdout",
     "output_type": "stream",
     "text": [
      "WARNING:tensorflow:AutoGraph could not transform <function Model.make_predict_function.<locals>.predict_function at 0x000001AA35AF68B0> and will run it as-is.\n",
      "Please report this to the TensorFlow team. When filing the bug, set the verbosity to 10 (on Linux, `export AUTOGRAPH_VERBOSITY=10`) and attach the full output.\n",
      "Cause: closure mismatch, requested ('self', 'step_function'), but source function had ()\n",
      "To silence this warning, decorate the function with @tf.autograph.experimental.do_not_convert\n",
      "WARNING: AutoGraph could not transform <function Model.make_predict_function.<locals>.predict_function at 0x000001AA35AF68B0> and will run it as-is.\n",
      "Please report this to the TensorFlow team. When filing the bug, set the verbosity to 10 (on Linux, `export AUTOGRAPH_VERBOSITY=10`) and attach the full output.\n",
      "Cause: closure mismatch, requested ('self', 'step_function'), but source function had ()\n",
      "To silence this warning, decorate the function with @tf.autograph.experimental.do_not_convert\n",
      "23/23 [==============================] - 2s 28ms/step\n",
      "11/11 [==============================] - 0s 34ms/step\n"
     ]
    }
   ],
   "source": [
    "train_predict = model.predict(X_train)\n",
    "test_predict = model.predict(X_test)"
   ]
  },
  {
   "cell_type": "code",
   "execution_count": 35,
   "id": "7e8ff9ac",
   "metadata": {},
   "outputs": [],
   "source": [
    "train_predict = scaler.inverse_transform(train_predict)\n",
    "test_predict = scaler.inverse_transform(test_predict)"
   ]
  },
  {
   "cell_type": "code",
   "execution_count": 36,
   "id": "6cbc98fc",
   "metadata": {},
   "outputs": [
    {
     "data": {
      "text/plain": [
       "573.7084230534251"
      ]
     },
     "execution_count": 36,
     "metadata": {},
     "output_type": "execute_result"
    }
   ],
   "source": [
    "import math\n",
    "from sklearn.metrics import mean_squared_error\n",
    "math.sqrt(mean_squared_error(y_train,train_predict))"
   ]
  },
  {
   "cell_type": "code",
   "execution_count": 38,
   "id": "aad0dbaf",
   "metadata": {},
   "outputs": [
    {
     "data": {
      "text/plain": [
       "881.7952688497378"
      ]
     },
     "execution_count": 38,
     "metadata": {},
     "output_type": "execute_result"
    }
   ],
   "source": [
    "math.sqrt(mean_squared_error(ytest,test_predict))"
   ]
  },
  {
   "cell_type": "code",
   "execution_count": 39,
   "id": "61d46871",
   "metadata": {},
   "outputs": [
    {
     "data": {
      "image/png": "[encoded data removed]",
      "text/plain": [
       "<Figure size 432x288 with 1 Axes>"
      ]
     },
     "metadata": {
      "needs_background": "light"
     },
     "output_type": "display_data"
    }
   ],
   "source": [
    "look_back = 100\n",
    "trainPredictPlot = numpy.empty_like(df1)\n",
    "trainPredictPlot[:, :] = np.nan\n",
    "trainPredictPlot[look_back:len(train_predict)+look_back,:]=train_predict\n",
    "testPredictPlot=numpy.empty_like(df1)\n",
    "testPredictPlot[:, :] = numpy.nan\n",
    "testPredictPlot[len(train_predict)+(look_back*2)+1:len(df1)-1,:] = test_predict\n",
    "plt.plot(scaler.inverse_transform(df1))\n",
    "plt.plot(trainPredictPlot)\n",
    "plt.plot(testPredictPlot)\n",
    "plt.show()"
   ]
  },
  {
   "cell_type": "code",
   "execution_count": null,
   "id": "3dfe9fc5",
   "metadata": {},
   "outputs": [],
   "source": []
  }
 ],
 "metadata": {
  "kernelspec": {
   "display_name": "Python 3 (ipykernel)",
   "language": "python",
   "name": "python3"
  },
  "language_info": {
   "codemirror_mode": {
    "name": "ipython",
    "version": 3
   },
   "file_extension": ".py",
   "mimetype": "text/x-python",
   "name": "python",
   "nbconvert_exporter": "python",
   "pygments_lexer": "ipython3",
   "version": "3.9.7"
  }
 },
 "nbformat": 4,
 "nbformat_minor": 5
}
